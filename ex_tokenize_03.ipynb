{
 "cells": [
  {
   "cell_type": "markdown",
   "id": "d5db9310",
   "metadata": {},
   "source": [
    "#### [ 자연어 전처리 - 토큰화 ]\n",
    "- 의미있는 단위로 나눈 작업 ==> 토큰화"
   ]
  },
  {
   "cell_type": "markdown",
   "id": "ae507859",
   "metadata": {},
   "source": [
    "[1] 모듈 로딩 <hr>"
   ]
  },
  {
   "cell_type": "code",
   "execution_count": 1,
   "id": "2302b52e",
   "metadata": {},
   "outputs": [],
   "source": [
    "# NLTK 패키지의 토큰화 모듈 로딩\n",
    "from nltk import sent_tokenize\n",
    "from nltk.tokenize import *\n",
    "import string"
   ]
  },
  {
   "cell_type": "markdown",
   "id": "85a94428",
   "metadata": {},
   "source": [
    "[2] 단어 단위 토큰화 <hr>"
   ]
  },
  {
   "cell_type": "code",
   "execution_count": 5,
   "id": "85be3ef1",
   "metadata": {},
   "outputs": [],
   "source": [
    "## 문장 데이터\n",
    "txt = \"The Matrix is everywhere its all around us, here even in this room. \\\n",
    " \t\tYou can see it out your window or on your television. \\\" \\\n",
    "\t\tYou feel it when you go to work, or go to church or pay your taxes.\" "
   ]
  },
  {
   "cell_type": "code",
   "execution_count": 6,
   "id": "b1d07443",
   "metadata": {},
   "outputs": [
    {
     "name": "stdout",
     "output_type": "stream",
     "text": [
      " - The Matrix is everywhere its all around us, here even in this room.\n",
      " - You can see it out your window or on your television. \"\n",
      " - You feel it when you go to work, or go to church or pay your taxes.\n"
     ]
    }
   ],
   "source": [
    "## 문장 단위 토큰화\n",
    "result = sent_tokenize(txt)\n",
    "\n",
    "## 결과 출력\n",
    "for sentence in result:\n",
    "\tprint(f' - {sentence}')"
   ]
  },
  {
   "cell_type": "code",
   "execution_count": 7,
   "id": "1976991c",
   "metadata": {},
   "outputs": [
    {
     "name": "stdout",
     "output_type": "stream",
     "text": [
      "- I am actively looking for Ph.D. students.\n",
      "- and you are a Ph.D student.\n"
     ]
    }
   ],
   "source": [
    "## 한개 문장으로 구성된 텍스트\n",
    "one_txt = \"I am actively looking for Ph.D. students. and you are a Ph.D student.\"\n",
    "\n",
    "## 문장 단위 토큰화\n",
    "result = sent_tokenize(one_txt)\n",
    "\n",
    "## 결과 출력\n",
    "for sentence in result:\n",
    "\tprint(f'- {sentence}')"
   ]
  }
 ],
 "metadata": {
  "kernelspec": {
   "display_name": "NLP",
   "language": "python",
   "name": "python3"
  },
  "language_info": {
   "codemirror_mode": {
    "name": "ipython",
    "version": 3
   },
   "file_extension": ".py",
   "mimetype": "text/x-python",
   "name": "python",
   "nbconvert_exporter": "python",
   "pygments_lexer": "ipython3",
   "version": "3.8.20"
  }
 },
 "nbformat": 4,
 "nbformat_minor": 5
}
