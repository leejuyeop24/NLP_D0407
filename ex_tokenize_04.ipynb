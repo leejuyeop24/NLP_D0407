{
 "cells": [
  {
   "cell_type": "markdown",
   "id": "bb2187ef",
   "metadata": {},
   "source": [
    "#### [ 자연어 전처리 - 정제+토큰화 ]\n",
    "- 정제단계(Cleaning Step)\n",
    "- 토큰화단계(Tokenize Step)"
   ]
  },
  {
   "cell_type": "markdown",
   "id": "f40a3bca",
   "metadata": {},
   "source": [
    "[1] 모듈 로딩 및 데이터 준비 <hr>"
   ]
  },
  {
   "cell_type": "code",
   "execution_count": 129,
   "id": "e59697e1",
   "metadata": {},
   "outputs": [],
   "source": [
    "## 토큰화 관련 모듈\n",
    "from nltk.tokenize import sent_tokenize, word_tokenize\n"
   ]
  },
  {
   "cell_type": "code",
   "execution_count": 130,
   "id": "7e8c78a9",
   "metadata": {},
   "outputs": [],
   "source": [
    "## 데이터 파일\n",
    "DATA_FILE = '../data/test_data.txt'\t\t## 말뭉치 특 코퍼스(Copous)\n",
    "STOP_WORD = ''\t\t\t\t\t\t\t## 불용어, 즉 분석에 의미없는 단어들"
   ]
  },
  {
   "cell_type": "markdown",
   "id": "c23703e6",
   "metadata": {},
   "source": [
    "[2] 텍스트 데이터 정제 <hr>\n",
    "- 영어 : 대소문자 일치\n",
    "- 필요없는 기호, 문자 제거"
   ]
  },
  {
   "cell_type": "code",
   "execution_count": 131,
   "id": "83e68b18",
   "metadata": {},
   "outputs": [
    {
     "name": "stdout",
     "output_type": "stream",
     "text": [
      "fileData ==>\n",
      " What a Merry-Go-Round is the eighteenth collection by British fashion designer Alexander McQueen, made for the Autumn/Winter 2001 season of his fashion house Alexander McQueen. The collection drew on imagery of clowns and carnivals, inspired by McQueen's feelings about childhood and his experiences in the fashion industry. The designs were influenced by military chic, cinema such as Nosferatu (1922) and Cabaret (1972), 1920s flapper fashion, and the French Revolution. The palette comprised dark colours complemented with neutrals and muted greens. The show marked the first appearance of the skull motif that became a signature of the brand.\n",
      "\n",
      "The collection's runway show was staged on 21 February 2001 at the Gatliff Road Warehouse in London, as part of London Fashion Week. It was McQueen's final show in London; all his future collections were presented in Paris. Sixty-two looks were presented in the main runway show, with at least six more in the finale.[a] The show was staged in a dark room with a carousel at the centre. During the finale, the lights came up to reveal piles of discarded childhood bric-à-brac at the rear of the stage, while models dressed as evil clowns cavorted around the stage, posing in their eveningwear.\n",
      "\n",
      "Critical response to the collection was generally positive, and it has attracted some academic analysis for the theme and messaging. Like McQueen's previous show Voss (Spring/Summer 2001), Merry-Go-Round served as a critique of the fashion industry, which he sometimes described as toxic and suffocating. It contained elements that several authors have taken as references to French luxury goods conglomerate LVMH and its management, with whom McQueen had a turbulent relationship. Ensembles from Merry-Go-Round have appeared in exhibitions such as the McQueen retrospective Alexander McQueen: Savage Beauty.\n"
     ]
    }
   ],
   "source": [
    "## 파일 데이터 읽어오기\n",
    "with open(DATA_FILE, mode='r', encoding='utf-8') as f:\n",
    "\tfileData = f.read()\n",
    "\n",
    "## - 확인\n",
    "print(f'fileData ==>\\n {fileData}')"
   ]
  },
  {
   "cell_type": "code",
   "execution_count": 132,
   "id": "7649c5dd",
   "metadata": {},
   "outputs": [
    {
     "name": "stdout",
     "output_type": "stream",
     "text": [
      "fileData==>\n",
      " what a merry-go-round is the e\n"
     ]
    }
   ],
   "source": [
    "## 대소문자 일치 ==> 소문자\n",
    "fileData = fileData.lower()\n",
    "\n",
    "## - 확인\n",
    "print(f'fileData==>\\n {fileData[:30]}')"
   ]
  },
  {
   "cell_type": "code",
   "execution_count": 133,
   "id": "6bd92604",
   "metadata": {},
   "outputs": [
    {
     "name": "stdout",
     "output_type": "stream",
     "text": [
      "PUNC => !\"#$%&'()*+,-./:;<=>?@[\\]^_`{|}~\n"
     ]
    }
   ],
   "source": [
    "## 불필요한 기호 제거\n",
    "import string\n",
    "PUNC = string.punctuation\n",
    "print(f'PUNC => {PUNC}')"
   ]
  },
  {
   "cell_type": "code",
   "execution_count": 134,
   "id": "021a8b89",
   "metadata": {},
   "outputs": [],
   "source": [
    "## 문장을 나누기 전에 구두점 제거 시 => 문장 구문 문자가 없어서 나눌 수 없음!!\n",
    "for ch in PUNC:\n",
    "\tif ch in fileData:\n",
    "\t\tfileData.replace(ch, '')"
   ]
  },
  {
   "cell_type": "markdown",
   "id": "9e5ad88d",
   "metadata": {},
   "source": [
    "[3] 토큰화 <hr>"
   ]
  },
  {
   "cell_type": "code",
   "execution_count": 135,
   "id": "44016a10",
   "metadata": {},
   "outputs": [
    {
     "data": {
      "text/plain": [
       "['what a merry-go-round is the eighteenth collection by british fashion designer alexander mcqueen, made for the autumn/winter 2001 season of his fashion house alexander mcqueen.',\n",
       " \"the collection drew on imagery of clowns and carnivals, inspired by mcqueen's feelings about childhood and his experiences in the fashion industry.\",\n",
       " 'the designs were influenced by military chic, cinema such as nosferatu (1922) and cabaret (1972), 1920s flapper fashion, and the french revolution.',\n",
       " 'the palette comprised dark colours complemented with neutrals and muted greens.',\n",
       " 'the show marked the first appearance of the skull motif that became a signature of the brand.',\n",
       " \"the collection's runway show was staged on 21 february 2001 at the gatliff road warehouse in london, as part of london fashion week.\",\n",
       " \"it was mcqueen's final show in london; all his future collections were presented in paris.\",\n",
       " 'sixty-two looks were presented in the main runway show, with at least six more in the finale.',\n",
       " '[a] the show was staged in a dark room with a carousel at the centre.',\n",
       " 'during the finale, the lights came up to reveal piles of discarded childhood bric-à-brac at the rear of the stage, while models dressed as evil clowns cavorted around the stage, posing in their eveningwear.',\n",
       " 'critical response to the collection was generally positive, and it has attracted some academic analysis for the theme and messaging.',\n",
       " \"like mcqueen's previous show voss (spring/summer 2001), merry-go-round served as a critique of the fashion industry, which he sometimes described as toxic and suffocating.\",\n",
       " 'it contained elements that several authors have taken as references to french luxury goods conglomerate lvmh and its management, with whom mcqueen had a turbulent relationship.',\n",
       " 'ensembles from merry-go-round have appeared in exhibitions such as the mcqueen retrospective alexander mcqueen: savage beauty.']"
      ]
     },
     "execution_count": 135,
     "metadata": {},
     "output_type": "execute_result"
    }
   ],
   "source": [
    "# 문장 분리 후 문장단위에서 토큰 분리\n",
    "sentences = sent_tokenize(fileData)\n",
    "sentences"
   ]
  },
  {
   "cell_type": "code",
   "execution_count": 136,
   "id": "e5bcf1a4",
   "metadata": {},
   "outputs": [
    {
     "name": "stdout",
     "output_type": "stream",
     "text": [
      "토큰의 품사 확인\n",
      "[('what', 'WP'), ('a', 'DT'), ('merrygoround', 'NN'), ('is', 'VBZ'), ('the', 'DT'), ('eighteenth', 'JJ'), ('collection', 'NN'), ('by', 'IN'), ('british', 'JJ'), ('fashion', 'NN'), ('designer', 'NN'), ('alexander', 'NN'), ('mcqueen', 'NN'), ('made', 'VBN'), ('for', 'IN'), ('the', 'DT'), ('autumnwinter', 'NN'), ('2001', 'CD'), ('season', 'NN'), ('of', 'IN'), ('his', 'PRP$'), ('fashion', 'NN'), ('house', 'NN'), ('alexander', 'NN'), ('mcqueen', 'NN')]\n",
      "토큰의 품사 확인\n",
      "[('the', 'DT'), ('collection', 'NN'), ('drew', 'VBD'), ('on', 'IN'), ('imagery', 'NN'), ('of', 'IN'), ('clowns', 'NNS'), ('and', 'CC'), ('carnivals', 'NNS'), ('inspired', 'VBN'), ('by', 'IN'), ('mcqueens', 'NNS'), ('feelings', 'NNS'), ('about', 'IN'), ('childhood', 'NN'), ('and', 'CC'), ('his', 'PRP$'), ('experiences', 'NNS'), ('in', 'IN'), ('the', 'DT'), ('fashion', 'NN'), ('industry', 'NN')]\n",
      "토큰의 품사 확인\n",
      "[('the', 'DT'), ('designs', 'NNS'), ('were', 'VBD'), ('influenced', 'VBN'), ('by', 'IN'), ('military', 'JJ'), ('chic', 'JJ'), ('cinema', 'NNS'), ('such', 'JJ'), ('as', 'IN'), ('nosferatu', 'JJ'), ('1922', 'CD'), ('and', 'CC'), ('cabaret', 'VB'), ('1972', 'CD'), ('1920s', 'CD'), ('flapper', 'JJ'), ('fashion', 'NN'), ('and', 'CC'), ('the', 'DT'), ('french', 'JJ'), ('revolution', 'NN')]\n",
      "토큰의 품사 확인\n",
      "[('the', 'DT'), ('palette', 'NN'), ('comprised', 'VBD'), ('dark', 'JJ'), ('colours', 'NNS'), ('complemented', 'VBN'), ('with', 'IN'), ('neutrals', 'NNS'), ('and', 'CC'), ('muted', 'VBD'), ('greens', 'NNS')]\n",
      "토큰의 품사 확인\n",
      "[('the', 'DT'), ('show', 'NN'), ('marked', 'VBD'), ('the', 'DT'), ('first', 'JJ'), ('appearance', 'NN'), ('of', 'IN'), ('the', 'DT'), ('skull', 'NN'), ('motif', 'NN'), ('that', 'WDT'), ('became', 'VBD'), ('a', 'DT'), ('signature', 'NN'), ('of', 'IN'), ('the', 'DT'), ('brand', 'NN')]\n",
      "토큰의 품사 확인\n",
      "[('the', 'DT'), ('collections', 'NNS'), ('runway', 'VBP'), ('show', 'NN'), ('was', 'VBD'), ('staged', 'VBN'), ('on', 'IN'), ('21', 'CD'), ('february', 'JJ'), ('2001', 'CD'), ('at', 'IN'), ('the', 'DT'), ('gatliff', 'NN'), ('road', 'NN'), ('warehouse', 'NN'), ('in', 'IN'), ('london', 'NN'), ('as', 'IN'), ('part', 'NN'), ('of', 'IN'), ('london', 'JJ'), ('fashion', 'NN'), ('week', 'NN')]\n",
      "토큰의 품사 확인\n",
      "[('it', 'PRP'), ('was', 'VBD'), ('mcqueens', 'JJ'), ('final', 'JJ'), ('show', 'NN'), ('in', 'IN'), ('london', 'NN'), ('all', 'PDT'), ('his', 'PRP$'), ('future', 'JJ'), ('collections', 'NNS'), ('were', 'VBD'), ('presented', 'VBN'), ('in', 'IN'), ('paris', 'NN')]\n",
      "토큰의 품사 확인\n",
      "[('sixtytwo', 'JJ'), ('looks', 'NNS'), ('were', 'VBD'), ('presented', 'VBN'), ('in', 'IN'), ('the', 'DT'), ('main', 'JJ'), ('runway', 'NN'), ('show', 'NN'), ('with', 'IN'), ('at', 'IN'), ('least', 'JJS'), ('six', 'CD'), ('more', 'JJR'), ('in', 'IN'), ('the', 'DT'), ('finale', 'NN')]\n",
      "토큰의 품사 확인\n",
      "[('a', 'DT'), ('the', 'DT'), ('show', 'NN'), ('was', 'VBD'), ('staged', 'VBN'), ('in', 'IN'), ('a', 'DT'), ('dark', 'JJ'), ('room', 'NN'), ('with', 'IN'), ('a', 'DT'), ('carousel', 'NN'), ('at', 'IN'), ('the', 'DT'), ('centre', 'NN')]\n",
      "토큰의 품사 확인\n",
      "[('during', 'IN'), ('the', 'DT'), ('finale', 'NN'), ('the', 'DT'), ('lights', 'NNS'), ('came', 'VBD'), ('up', 'RB'), ('to', 'TO'), ('reveal', 'VB'), ('piles', 'NNS'), ('of', 'IN'), ('discarded', 'JJ'), ('childhood', 'NN'), ('bricàbrac', 'NN'), ('at', 'IN'), ('the', 'DT'), ('rear', 'NN'), ('of', 'IN'), ('the', 'DT'), ('stage', 'NN'), ('while', 'IN'), ('models', 'NNS'), ('dressed', 'VBN'), ('as', 'IN'), ('evil', 'JJ'), ('clowns', 'NNS'), ('cavorted', 'VBN'), ('around', 'IN'), ('the', 'DT'), ('stage', 'NN'), ('posing', 'VBG'), ('in', 'IN'), ('their', 'PRP$'), ('eveningwear', 'NN')]\n",
      "토큰의 품사 확인\n",
      "[('critical', 'JJ'), ('response', 'NN'), ('to', 'TO'), ('the', 'DT'), ('collection', 'NN'), ('was', 'VBD'), ('generally', 'RB'), ('positive', 'JJ'), ('and', 'CC'), ('it', 'PRP'), ('has', 'VBZ'), ('attracted', 'VBN'), ('some', 'DT'), ('academic', 'JJ'), ('analysis', 'NN'), ('for', 'IN'), ('the', 'DT'), ('theme', 'NN'), ('and', 'CC'), ('messaging', 'NN')]\n",
      "토큰의 품사 확인\n",
      "[('like', 'IN'), ('mcqueens', 'NNS'), ('previous', 'JJ'), ('show', 'NN'), ('voss', 'IN'), ('springsummer', 'NN'), ('2001', 'CD'), ('merrygoround', 'NN'), ('served', 'VBD'), ('as', 'IN'), ('a', 'DT'), ('critique', 'NN'), ('of', 'IN'), ('the', 'DT'), ('fashion', 'NN'), ('industry', 'NN'), ('which', 'WDT'), ('he', 'PRP'), ('sometimes', 'RB'), ('described', 'VBD'), ('as', 'IN'), ('toxic', 'NN'), ('and', 'CC'), ('suffocating', 'NN')]\n",
      "토큰의 품사 확인\n",
      "[('it', 'PRP'), ('contained', 'VBD'), ('elements', 'NNS'), ('that', 'IN'), ('several', 'JJ'), ('authors', 'NNS'), ('have', 'VBP'), ('taken', 'VBN'), ('as', 'IN'), ('references', 'NNS'), ('to', 'TO'), ('french', 'JJ'), ('luxury', 'NN'), ('goods', 'NNS'), ('conglomerate', 'VBP'), ('lvmh', 'NN'), ('and', 'CC'), ('its', 'PRP$'), ('management', 'NN'), ('with', 'IN'), ('whom', 'WP'), ('mcqueen', 'NN'), ('had', 'VBD'), ('a', 'DT'), ('turbulent', 'NN'), ('relationship', 'NN')]\n",
      "토큰의 품사 확인\n",
      "[('ensembles', 'NNS'), ('from', 'IN'), ('merrygoround', 'NN'), ('have', 'VBP'), ('appeared', 'VBN'), ('in', 'IN'), ('exhibitions', 'NNS'), ('such', 'JJ'), ('as', 'IN'), ('the', 'DT'), ('mcqueen', 'JJ'), ('retrospective', 'JJ'), ('alexander', 'NN'), ('mcqueen', 'JJ'), ('savage', 'NN'), ('beauty', 'NN')]\n",
      "총 토큰 개수 : 287개\n",
      "['what', 'a', 'merrygoround', 'is', 'the', 'eighteenth', 'collection', 'by', 'british', 'fashion', 'designer', 'alexander', 'mcqueen', 'made', 'for', 'the', 'autumnwinter', '2001', 'season', 'of', 'his', 'fashion', 'house', 'alexander', 'mcqueen', 'the', 'collection', 'drew', 'on', 'imagery', 'of', 'clowns', 'and', 'carnivals', 'inspired', 'by', 'mcqueens', 'feelings', 'about', 'childhood', 'and', 'his', 'experiences', 'in', 'the', 'fashion', 'industry', 'the', 'designs', 'were', 'influenced', 'by', 'military', 'chic', 'cinema', 'such', 'as', 'nosferatu', '1922', 'and', 'cabaret', '1972', '1920s', 'flapper', 'fashion', 'and', 'the', 'french', 'revolution', 'the', 'palette', 'comprised', 'dark', 'colours', 'complemented', 'with', 'neutrals', 'and', 'muted', 'greens', 'the', 'show', 'marked', 'the', 'first', 'appearance', 'of', 'the', 'skull', 'motif', 'that', 'became', 'a', 'signature', 'of', 'the', 'brand', 'the', 'collections', 'runway', 'show', 'was', 'staged', 'on', '21', 'february', '2001', 'at', 'the', 'gatliff', 'road', 'warehouse', 'in', 'london', 'as', 'part', 'of', 'london', 'fashion', 'week', 'it', 'was', 'mcqueens', 'final', 'show', 'in', 'london', 'all', 'his', 'future', 'collections', 'were', 'presented', 'in', 'paris', 'sixtytwo', 'looks', 'were', 'presented', 'in', 'the', 'main', 'runway', 'show', 'with', 'at', 'least', 'six', 'more', 'in', 'the', 'finale', 'a', 'the', 'show', 'was', 'staged', 'in', 'a', 'dark', 'room', 'with', 'a', 'carousel', 'at', 'the', 'centre', 'during', 'the', 'finale', 'the', 'lights', 'came', 'up', 'to', 'reveal', 'piles', 'of', 'discarded', 'childhood', 'bricàbrac', 'at', 'the', 'rear', 'of', 'the', 'stage', 'while', 'models', 'dressed', 'as', 'evil', 'clowns', 'cavorted', 'around', 'the', 'stage', 'posing', 'in', 'their', 'eveningwear', 'critical', 'response', 'to', 'the', 'collection', 'was', 'generally', 'positive', 'and', 'it', 'has', 'attracted', 'some', 'academic', 'analysis', 'for', 'the', 'theme', 'and', 'messaging', 'like', 'mcqueens', 'previous', 'show', 'voss', 'springsummer', '2001', 'merrygoround', 'served', 'as', 'a', 'critique', 'of', 'the', 'fashion', 'industry', 'which', 'he', 'sometimes', 'described', 'as', 'toxic', 'and', 'suffocating', 'it', 'contained', 'elements', 'that', 'several', 'authors', 'have', 'taken', 'as', 'references', 'to', 'french', 'luxury', 'goods', 'conglomerate', 'lvmh', 'and', 'its', 'management', 'with', 'whom', 'mcqueen', 'had', 'a', 'turbulent', 'relationship', 'ensembles', 'from', 'merrygoround', 'have', 'appeared', 'in', 'exhibitions', 'such', 'as', 'the', 'mcqueen', 'retrospective', 'alexander', 'mcqueen', 'savage', 'beauty']\n"
     ]
    }
   ],
   "source": [
    "## 문장 단위 토큰화 진행 후 토큰 저장 -----------------------------\t\t\n",
    "from nltk.tag import pos_tag\n",
    "\n",
    "token_list = []\n",
    "for sent in sentences:\n",
    "\t# 문장 단위로 구두점 제거, 토큰 분리\n",
    "\tfor p in PUNC:\n",
    "\t\tif p in sent: sent=sent.replace(p, '')\n",
    "\n",
    "\t# 토큰 분리 => list 반환\n",
    "\twords = word_tokenize(sent)\n",
    "\tprint(f'토큰의 품사 확인\\n{pos_tag(words)}')\n",
    "\n",
    "\t# 토큰 합치기\n",
    "\ttoken_list=token_list+words\n",
    "\n",
    "print(F'총 토큰 개수 : {len(token_list)}개\\n{token_list}')"
   ]
  },
  {
   "cell_type": "code",
   "execution_count": 137,
   "id": "52f190be",
   "metadata": {},
   "outputs": [
    {
     "name": "stdout",
     "output_type": "stream",
     "text": [
      "총 토큰 개수 : 204개\n",
      "['what', 'merrygoround', 'eighteenth', 'collection', 'british', 'fashion', 'designer', 'alexander', 'mcqueen', 'made', 'autumnwinter', '2001', 'season', 'his', 'fashion', 'house', 'alexander', 'mcqueen', 'collection', 'drew', 'imagery', 'clowns', 'and', 'carnivals', 'inspired', 'mcqueens', 'feelings', 'childhood', 'and', 'his', 'experiences', 'fashion', 'industry', 'designs', 'were', 'influenced', 'military', 'chic', 'cinema', 'such', 'nosferatu', '1922', 'and', 'cabaret', '1972', '1920s', 'flapper', 'fashion', 'and', 'french', 'revolution', 'palette', 'comprised', 'dark', 'colours', 'complemented', 'neutrals', 'and', 'muted', 'greens', 'show', 'marked', 'first', 'appearance', 'skull', 'motif', 'that', 'became', 'signature', 'brand', 'collections', 'runway', 'show', 'was', 'staged', '21', 'february', '2001', 'gatliff', 'road', 'warehouse', 'london', 'part', 'london', 'fashion', 'week', 'it', 'was', 'mcqueens', 'final', 'show', 'london', 'all', 'his', 'future', 'collections', 'were', 'presented', 'paris', 'sixtytwo', 'looks', 'were', 'presented', 'main', 'runway', 'show', 'least', 'six', 'more', 'finale', 'show', 'was', 'staged', 'dark', 'room', 'carousel', 'centre', 'finale', 'lights', 'came', 'up', 'to', 'reveal', 'piles', 'discarded', 'childhood', 'bricàbrac', 'rear', 'stage', 'models', 'dressed', 'evil', 'clowns', 'cavorted', 'stage', 'posing', 'their', 'eveningwear', 'critical', 'response', 'to', 'collection', 'was', 'generally', 'positive', 'and', 'it', 'attracted', 'academic', 'analysis', 'theme', 'and', 'messaging', 'mcqueens', 'previous', 'show', 'springsummer', '2001', 'merrygoround', 'served', 'critique', 'fashion', 'industry', 'which', 'he', 'sometimes', 'described', 'toxic', 'and', 'suffocating', 'it', 'contained', 'elements', 'several', 'authors', 'have', 'taken', 'references', 'to', 'french', 'luxury', 'goods', 'conglomerate', 'lvmh', 'and', 'its', 'management', 'whom', 'mcqueen', 'had', 'turbulent', 'relationship', 'ensembles', 'merrygoround', 'have', 'appeared', 'exhibitions', 'such', 'mcqueen', 'retrospective', 'alexander', 'mcqueen', 'savage', 'beauty']\n"
     ]
    }
   ],
   "source": [
    "## 문장 단위 토큰화 진행 후 토큰 저장 -----------------------------\t\t\n",
    "from nltk.tag import pos_tag\n",
    "\n",
    "token_list = []\n",
    "for sent in sentences:\n",
    "\t# 문장 단위로 구두점 제거, 토큰 분리\n",
    "\tfor p in PUNC:\n",
    "\t\tif p in sent: sent=sent.replace(p, '')\n",
    "\n",
    "\t# 토큰 분리 => list 반환\n",
    "\tpos_words = pos_tag(word_tokenize(sent))\n",
    "\t# print(f'토큰의 품사 확인\\n{pos_words}')\n",
    "\n",
    "\t# 토큰 합치기 => 불필요한 품사 제거한 토큰들\n",
    "\twords = [w for w, pos in pos_words if pos not in ['DT', 'VBZ', 'IN']]\n",
    "\ttoken_list=token_list+words\n",
    "\n",
    "print(F'총 토큰 개수 : {len(token_list)}개\\n{token_list}')"
   ]
  },
  {
   "cell_type": "markdown",
   "id": "d42ba23e",
   "metadata": {},
   "source": [
    "[4] 토큰화 후 정제<hr>\n",
    "- 불용어 Stopwords : 분석에 필요없는 단어 의미 => 기본+커스텀\n",
    "- 동사 원형 찾아서 변경\n"
   ]
  },
  {
   "cell_type": "code",
   "execution_count": 138,
   "id": "b37d12a7",
   "metadata": {},
   "outputs": [
    {
     "name": "stdout",
     "output_type": "stream",
     "text": [
      "불용어 개수 : 198개\n"
     ]
    }
   ],
   "source": [
    "## [4-1] 불용어 처리\n",
    "from nltk.corpus import stopwords\n",
    "\n",
    "stopwordList = stopwords.words('english')\n",
    "\n",
    "print(f'불용어 개수 : {len(stopwordList)}개')"
   ]
  },
  {
   "cell_type": "code",
   "execution_count": 139,
   "id": "94f58d27",
   "metadata": {},
   "outputs": [
    {
     "name": "stdout",
     "output_type": "stream",
     "text": [
      "token_list 개수 : 164개\n"
     ]
    }
   ],
   "source": [
    "## 1차 추출된 토큰 리스트에서 불용어 제거\n",
    "token_list = [ token for token in token_list if token not in stopwordList ]\n",
    "\n",
    "print(f'token_list 개수 : {len(token_list)}개')"
   ]
  },
  {
   "cell_type": "code",
   "execution_count": 140,
   "id": "27007eb8",
   "metadata": {},
   "outputs": [],
   "source": [
    "## [4-2] 동사들 원형 변환\n",
    "from nltk.stem import WordNetLemmatizer\n",
    "\n",
    "## 인스턴스 생성\n",
    "wnLemma = WordNetLemmatizer()"
   ]
  },
  {
   "cell_type": "code",
   "execution_count": 141,
   "id": "69dfb67e",
   "metadata": {},
   "outputs": [
    {
     "name": "stdout",
     "output_type": "stream",
     "text": [
      "token_list => 164개\n"
     ]
    }
   ],
   "source": [
    "## 품사 태깅 후 동사/형용사 원형 복원\n",
    "pos_tokens = pos_tag(token_list)\n",
    "\n",
    "## 형용사 'JJ' => 'a', 동사 'VB' => 'V'\n",
    "token_list = []\n",
    "for word, pos in pos_tokens:\n",
    "\t## 형용사, 동사 경우 표제어 즉, 원형 복원\n",
    "\tif pos[:2] in ['JJ', 'VB']:\n",
    "\t\ttoken_list.append(wnLemma.lemmatize(word, 'a' if pos=='JJ' else 'v' ))\n",
    "\telse:\n",
    "\t\t## 나머지 품사 토큰은 그대로 추가\n",
    "\t\ttoken_list.append(word)\t\n",
    "\n",
    "print(f'token_list => {len(token_list)}개')"
   ]
  },
  {
   "cell_type": "code",
   "execution_count": 142,
   "id": "d8ee5e4e",
   "metadata": {},
   "outputs": [
    {
     "name": "stdout",
     "output_type": "stream",
     "text": [
      "token_list => 128개\n"
     ]
    }
   ],
   "source": [
    "## [4-3] 중복 단어 제거\n",
    "token_list = list(set(token_list ))\n",
    "\n",
    "print(f'token_list => {len(token_list)}개')"
   ]
  },
  {
   "cell_type": "markdown",
   "id": "c4a0a9f3",
   "metadata": {},
   "source": [
    "[5] 단어 사전 생성 <hr>\n",
    "- 토큰 -- 정수 인코딩\n",
    "- 특수토큰 : 없는 토큰 UNK, 길이맞춤용 토큰 PAD"
   ]
  },
  {
   "cell_type": "code",
   "execution_count": 143,
   "id": "75bea88b",
   "metadata": {},
   "outputs": [
    {
     "data": {
      "text/plain": [
       "{'<PAD>': 0, '<UNK>': 1}"
      ]
     },
     "execution_count": 143,
     "metadata": {},
     "output_type": "execute_result"
    }
   ],
   "source": [
    "### dict 타입으로 단어사전 생성\n",
    "vocab = {'<PAD>':0, '<UNK>':1}\n",
    "vocab"
   ]
  },
  {
   "cell_type": "code",
   "execution_count": 144,
   "id": "b4f50bbd",
   "metadata": {},
   "outputs": [],
   "source": [
    "## 토큰들에게 정수 숫자 부여\n",
    "for idx, token in enumerate(token_list, 2):\n",
    "\tvocab[token]=idx"
   ]
  },
  {
   "cell_type": "markdown",
   "id": "af629ec6",
   "metadata": {},
   "source": [
    "[6] 자연어 => 숫자 변환 <hr>"
   ]
  },
  {
   "cell_type": "code",
   "execution_count": null,
   "id": "7a6d7318",
   "metadata": {},
   "outputs": [
    {
     "name": "stdout",
     "output_type": "stream",
     "text": [
      "총 문장 수 : 14개\n",
      "[['what', 'a', 'merrygoround', 'be', 'the', 'eighteenth', 'collection', 'by', 'british', 'fashion', 'designer', 'alexander', 'mcqueen', 'make', 'for', 'the', 'autumnwinter', '2001', 'season', 'of', 'his', 'fashion', 'house', 'alexander', 'mcqueen'], ['the', 'collection', 'draw', 'on', 'imagery', 'of', 'clowns', 'and', 'carnivals', 'inspire', 'by', 'mcqueens', 'feelings', 'about', 'childhood', 'and', 'his', 'experiences', 'in', 'the', 'fashion', 'industry'], ['the', 'designs', 'be', 'influence', 'by', 'military', 'chic', 'cinema', 'such', 'as', 'nosferatu', '1922', 'and', 'cabaret', '1972', '1920s', 'flapper', 'fashion', 'and', 'the', 'french', 'revolution'], ['the', 'palette', 'comprise', 'dark', 'colours', 'complement', 'with', 'neutrals', 'and', 'mute', 'greens'], ['the', 'show', 'mark', 'the', 'first', 'appearance', 'of', 'the', 'skull', 'motif', 'that', 'become', 'a', 'signature', 'of', 'the', 'brand'], ['the', 'collections', 'runway', 'show', 'be', 'stag', 'on', '21', 'february', '2001', 'at', 'the', 'gatliff', 'road', 'warehouse', 'in', 'london', 'as', 'part', 'of', 'london', 'fashion', 'week'], ['it', 'be', 'mcqueens', 'final', 'show', 'in', 'london', 'all', 'his', 'future', 'collections', 'be', 'present', 'in', 'paris'], ['sixtytwo', 'looks', 'be', 'present', 'in', 'the', 'main', 'runway', 'show', 'with', 'at', 'least', 'six', 'more', 'in', 'the', 'finale'], ['a', 'the', 'show', 'be', 'stag', 'in', 'a', 'dark', 'room', 'with', 'a', 'carousel', 'at', 'the', 'centre'], ['during', 'the', 'finale', 'the', 'lights', 'come', 'up', 'to', 'reveal', 'piles', 'of', 'discarded', 'childhood', 'bricàbrac', 'at', 'the', 'rear', 'of', 'the', 'stage', 'while', 'models', 'dress', 'as', 'evil', 'clowns', 'cavort', 'around', 'the', 'stage', 'pose', 'in', 'their', 'eveningwear'], ['critical', 'response', 'to', 'the', 'collection', 'be', 'generally', 'positive', 'and', 'it', 'have', 'attract', 'some', 'academic', 'analysis', 'for', 'the', 'theme', 'and', 'messaging'], ['like', 'mcqueens', 'previous', 'show', 'voss', 'springsummer', '2001', 'merrygoround', 'serve', 'as', 'a', 'critique', 'of', 'the', 'fashion', 'industry', 'which', 'he', 'sometimes', 'describe', 'as', 'toxic', 'and', 'suffocating'], ['it', 'contain', 'elements', 'that', 'several', 'authors', 'have', 'take', 'as', 'references', 'to', 'french', 'luxury', 'goods', 'conglomerate', 'lvmh', 'and', 'its', 'management', 'with', 'whom', 'mcqueen', 'have', 'a', 'turbulent', 'relationship'], ['ensembles', 'from', 'merrygoround', 'have', 'appear', 'in', 'exhibitions', 'such', 'as', 'the', 'mcqueen', 'retrospective', 'alexander', 'mcqueen', 'savage', 'beauty']]\n"
     ]
    }
   ],
   "source": [
    "token_list = []\n",
    "for sent in sentences:\n",
    "\t# 문장 단위로 구두점 제거, 토큰 분리\n",
    "\tfor p in PUNC:\n",
    "\t\tif p in sent: sent=sent.replace(p, '')\n",
    "\n",
    "\t# 토큰 분리 => list 반환\n",
    "\tpos_words = pos_tag(word_tokenize(sent))\n",
    "\t# print(f'토큰의 품사 확인\\n{pos_words}')\n",
    "\n",
    "\t# 토큰 합치기 => 불필요한 품사 제거한 토큰들\n",
    "\twords = [w for w, pos in pos_words if pos not in ['DT', 'VBZ', 'IN']]\n",
    "\t\n",
    "\t## 1차 추출된 토큰 리스트에서 불용어 제거\n",
    "\twords = [ token for token in words if token not in stopwordList ]\n",
    "\n",
    "\t## 품사 태깅 후 동사/형용사 원형 복원\n",
    "\tpos_tokens = pos_tag(words)\n",
    "\n",
    "\t## 형용사 'JJ' => 'a', 동사 'VB' => 'V'\n",
    "\tsent = []\n",
    "\tfor word, pos in pos_words:\n",
    "\t\tif word == 'messaging' and word=='what':\n",
    "\t\t\tprint(pos, word)\n",
    "\t    \n",
    "\t\t\n",
    "\t\t## 형용사, 동사 경우 표제어 즉, 원형 복원\n",
    "\t\tif pos[:2] in ['JJ', 'VB']:\n",
    "\t\t\tsent.append(wnLemma.lemmatize(word, 'a' if pos=='JJ' else 'v' ))\n",
    "\t\telse:\n",
    "\t\t\t## 나머지 품사 토큰은 그대로 추가\n",
    "\t\t\tsent.append(word)\t\n",
    "\n",
    "\t# 문장 단위 토큰 저장\n",
    "\ttoken_list.append(sent)\n",
    "\n",
    "print(F'총 문장 수 : {len(token_list)}개\\n{token_list}')"
   ]
  },
  {
   "cell_type": "code",
   "execution_count": 150,
   "id": "f6674a57",
   "metadata": {},
   "outputs": [
    {
     "name": "stdout",
     "output_type": "stream",
     "text": [
      "['what', 'a', 'merrygoround', 'be', 'the', 'eighteenth', 'collection', 'by', 'british', 'fashion', 'designer', 'alexander', 'mcqueen', 'make', 'for', 'the', 'autumnwinter', '2001', 'season', 'of', 'his', 'fashion', 'house', 'alexander', 'mcqueen']\n"
     ]
    },
    {
     "ename": "KeyError",
     "evalue": "'what'",
     "output_type": "error",
     "traceback": [
      "\u001b[1;31m---------------------------------------------------------------------------\u001b[0m",
      "\u001b[1;31mKeyError\u001b[0m                                  Traceback (most recent call last)",
      "Cell \u001b[1;32mIn[150], line 6\u001b[0m\n\u001b[0;32m      4\u001b[0m \u001b[38;5;28;01mfor\u001b[39;00m sent \u001b[38;5;129;01min\u001b[39;00m token_list:\n\u001b[0;32m      5\u001b[0m \t\u001b[38;5;28mprint\u001b[39m(sent)\n\u001b[1;32m----> 6\u001b[0m \ttextData\u001b[38;5;241m.\u001b[39mappend( [vocab[token] \u001b[38;5;28;01mfor\u001b[39;00m token \u001b[38;5;129;01min\u001b[39;00m sent ])\n\u001b[0;32m      7\u001b[0m \t\u001b[38;5;28mprint\u001b[39m(\u001b[38;5;124m'\u001b[39m\u001b[38;5;124m=>\u001b[39m\u001b[38;5;124m'\u001b[39m, textData[\u001b[38;5;241m-\u001b[39m\u001b[38;5;241m1\u001b[39m])\n",
      "Cell \u001b[1;32mIn[150], line 6\u001b[0m, in \u001b[0;36m<listcomp>\u001b[1;34m(.0)\u001b[0m\n\u001b[0;32m      4\u001b[0m \u001b[38;5;28;01mfor\u001b[39;00m sent \u001b[38;5;129;01min\u001b[39;00m token_list:\n\u001b[0;32m      5\u001b[0m \t\u001b[38;5;28mprint\u001b[39m(sent)\n\u001b[1;32m----> 6\u001b[0m \ttextData\u001b[38;5;241m.\u001b[39mappend( [\u001b[43mvocab\u001b[49m\u001b[43m[\u001b[49m\u001b[43mtoken\u001b[49m\u001b[43m]\u001b[49m \u001b[38;5;28;01mfor\u001b[39;00m token \u001b[38;5;129;01min\u001b[39;00m sent ])\n\u001b[0;32m      7\u001b[0m \t\u001b[38;5;28mprint\u001b[39m(\u001b[38;5;124m'\u001b[39m\u001b[38;5;124m=>\u001b[39m\u001b[38;5;124m'\u001b[39m, textData[\u001b[38;5;241m-\u001b[39m\u001b[38;5;241m1\u001b[39m])\n",
      "\u001b[1;31mKeyError\u001b[0m: 'what'"
     ]
    }
   ],
   "source": [
    "## 전처리 끝난 문장들 토큰 확인 및 숫자로 변형\n",
    "textData = []\n",
    "\n",
    "for sent in token_list:\n",
    "\tprint(sent)\n",
    "\ttextData.append( [vocab[token] for token in sent ])\n",
    "\tprint('=>', textData[-1])"
   ]
  },
  {
   "cell_type": "code",
   "execution_count": null,
   "id": "b60391dc",
   "metadata": {},
   "outputs": [],
   "source": []
  }
 ],
 "metadata": {
  "kernelspec": {
   "display_name": "NLP",
   "language": "python",
   "name": "python3"
  },
  "language_info": {
   "codemirror_mode": {
    "name": "ipython",
    "version": 3
   },
   "file_extension": ".py",
   "mimetype": "text/x-python",
   "name": "python",
   "nbconvert_exporter": "python",
   "pygments_lexer": "ipython3",
   "version": "3.8.20"
  }
 },
 "nbformat": 4,
 "nbformat_minor": 5
}
