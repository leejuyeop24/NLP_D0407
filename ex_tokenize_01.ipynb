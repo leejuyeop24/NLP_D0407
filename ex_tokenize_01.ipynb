{
 "cells": [
  {
   "cell_type": "markdown",
   "id": "d5db9310",
   "metadata": {},
   "source": [
    "#### [ 자연어 전처리 - 토큰화 ]\n",
    "- 의미있는 단위로 나눈 작업 ==> 토큰화"
   ]
  },
  {
   "cell_type": "markdown",
   "id": "ae507859",
   "metadata": {},
   "source": [
    "[1] 모듈 로딩 <hr>"
   ]
  },
  {
   "cell_type": "code",
   "execution_count": 12,
   "id": "2302b52e",
   "metadata": {},
   "outputs": [],
   "source": [
    "# NLTK 패키지의 토큰화 모듈 로딩\n",
    "from nltk.tokenize import *\n",
    "import string"
   ]
  },
  {
   "cell_type": "markdown",
   "id": "85a94428",
   "metadata": {},
   "source": [
    "[2] 단어 단위 토큰화 <hr>"
   ]
  },
  {
   "cell_type": "code",
   "execution_count": 13,
   "id": "85be3ef1",
   "metadata": {},
   "outputs": [],
   "source": [
    "## 문장 데이터\n",
    "txt = \"Happy, New Year! Don't stop. Dh.Park!\""
   ]
  },
  {
   "cell_type": "code",
   "execution_count": 14,
   "id": "b2c28b65",
   "metadata": {},
   "outputs": [],
   "source": [
    "## 단어 단위 토큰화\n",
    "result = word_tokenize(txt)"
   ]
  },
  {
   "cell_type": "code",
   "execution_count": 15,
   "id": "cc061994",
   "metadata": {},
   "outputs": [
    {
     "name": "stdout",
     "output_type": "stream",
     "text": [
      "result \n",
      "['Happy', ',', 'New', 'Year', '!', 'Do', \"n't\", 'stop', '.', 'Dh.Park', '!']\n"
     ]
    }
   ],
   "source": [
    "## 결과 출력\n",
    "print(f'result \\n{result}')"
   ]
  },
  {
   "cell_type": "markdown",
   "id": "c2158db6",
   "metadata": {},
   "source": [
    "[3] 구두점 제거 후 단어 토큰화 <hr>"
   ]
  },
  {
   "cell_type": "code",
   "execution_count": 16,
   "id": "3a0cf42d",
   "metadata": {},
   "outputs": [],
   "source": [
    "## 구두점에 해당 문자\n",
    "PUNCT=string.punctuation"
   ]
  },
  {
   "cell_type": "code",
   "execution_count": 17,
   "id": "0e093b68",
   "metadata": {},
   "outputs": [
    {
     "data": {
      "text/plain": [
       "'Happy New Year Dont stop DhPark'"
      ]
     },
     "execution_count": 17,
     "metadata": {},
     "output_type": "execute_result"
    }
   ],
   "source": [
    "## 1차 정제 ==> 문장에서 구두점 제거\n",
    "for ch in txt:\n",
    "\tif ch in PUNCT:\n",
    "\t\ttxt=txt.replace(ch, '')\n",
    "txt"
   ]
  },
  {
   "cell_type": "code",
   "execution_count": 18,
   "id": "653da9de",
   "metadata": {},
   "outputs": [
    {
     "name": "stdout",
     "output_type": "stream",
     "text": [
      "['Happy', 'New', 'Year', 'Dont', 'stop', 'DhPark']\n"
     ]
    }
   ],
   "source": [
    "## 토큰화 진행\n",
    "result = word_tokenize(txt)\n",
    "print(result)"
   ]
  },
  {
   "cell_type": "code",
   "execution_count": 19,
   "id": "05156bab",
   "metadata": {},
   "outputs": [
    {
     "name": "stdout",
     "output_type": "stream",
     "text": [
      "happy new year dont stop dhpark\n",
      "happy new year  stop dhpark\n",
      "happy new year  stop \n"
     ]
    }
   ],
   "source": [
    "## => 2차 정제 : 불필요한 토큰 제거\n",
    "## - 소문자로 일치\n",
    "txt=txt.lower()\n",
    "print(txt)\n",
    "\n",
    "## - 불필요 토큰 dont 제거\n",
    "txt=txt.replace('dont','')\n",
    "print(txt)\n",
    "\n",
    "## - 불필요 토큰 dhpark 제거\n",
    "txt=txt.replace('dhpark','')\n",
    "print(txt)"
   ]
  },
  {
   "cell_type": "code",
   "execution_count": 20,
   "id": "8f233f10",
   "metadata": {},
   "outputs": [
    {
     "name": "stdout",
     "output_type": "stream",
     "text": [
      "['happy', 'new', 'year', 'stop']\n"
     ]
    }
   ],
   "source": [
    "## 토큰화 진행\n",
    "result = word_tokenize(txt)\n",
    "print(result)"
   ]
  }
 ],
 "metadata": {
  "kernelspec": {
   "display_name": "NLP",
   "language": "python",
   "name": "python3"
  },
  "language_info": {
   "codemirror_mode": {
    "name": "ipython",
    "version": 3
   },
   "file_extension": ".py",
   "mimetype": "text/x-python",
   "name": "python",
   "nbconvert_exporter": "python",
   "pygments_lexer": "ipython3",
   "version": "3.8.20"
  }
 },
 "nbformat": 4,
 "nbformat_minor": 5
}
