{
 "cells": [
  {
   "cell_type": "markdown",
   "id": "5d44d52e",
   "metadata": {},
   "source": [
    "#### [자연어 전처리 - 원형 복원 ]\n",
    "- 동일한 의미를 가지면서 형태가 다른 단어들 ==> 1개의 형태 일치\n",
    "- 토큰 수 줄일 수 있음\n",
    "- 방법\n",
    "\t* 형태학적 방법 : Stemming\t어간 추출\n",
    "\t* 사전학적 방법 : Lemmatization 표제어 추출"
   ]
  },
  {
   "cell_type": "markdown",
   "id": "bff7640e",
   "metadata": {},
   "source": [
    "[1] 모듈 로딩 <hr>"
   ]
  },
  {
   "cell_type": "code",
   "execution_count": null,
   "id": "5da44a2f",
   "metadata": {},
   "outputs": [],
   "source": [
    "## 어간추출과 표제어추출 모듈 로딩\n",
    "from nltk.stem import LancasterStemmer, WordNetLemmatizer"
   ]
  },
  {
   "cell_type": "markdown",
   "id": "61e9da7b",
   "metadata": {},
   "source": [
    "[2] 어간추출 방식 <hr>"
   ]
  },
  {
   "cell_type": "code",
   "execution_count": 13,
   "id": "f1008ff9",
   "metadata": {},
   "outputs": [
    {
     "name": "stdout",
     "output_type": "stream",
     "text": [
      "[working, worked, works] 어간추출 ==> work work work\n"
     ]
    }
   ],
   "source": [
    "## 어간추출 인스턴스 생성\n",
    "stemmer = LancasterStemmer()\n",
    "\n",
    "## 단어들의 어간 추출\n",
    "print('[working, worked, works]', end=' 어간추출 ==> ')\n",
    "print(stemmer.stem('working'), stemmer.stem('worked'), stemmer.stem('works'))"
   ]
  },
  {
   "cell_type": "code",
   "execution_count": 14,
   "id": "d24c834e",
   "metadata": {},
   "outputs": [
    {
     "name": "stdout",
     "output_type": "stream",
     "text": [
      "[amusing, amuses, amused] 어간추출 ==> amus amus amus\n"
     ]
    }
   ],
   "source": [
    "print('[amusing, amuses, amused]', end=' 어간추출 ==> ')\n",
    "print(stemmer.stem('amusing'), stemmer.stem('amuses'), stemmer.stem('amused'))"
   ]
  },
  {
   "cell_type": "code",
   "execution_count": 15,
   "id": "1af8f80b",
   "metadata": {},
   "outputs": [
    {
     "name": "stdout",
     "output_type": "stream",
     "text": [
      "[happier, happiest] 어간추출 ==> happy happiest\n",
      "[fancier, fanciest] 어간추출 ==> fant fanciest\n"
     ]
    }
   ],
   "source": [
    "print('[happier, happiest]', end=' 어간추출 ==> ')\n",
    "print(stemmer.stem('happier'), stemmer.stem('happiest'))\n",
    "\n",
    "print('[fancier, fanciest]', end=' 어간추출 ==> ')\n",
    "print(stemmer.stem('fancier'), stemmer.stem('fanciest'))"
   ]
  },
  {
   "cell_type": "markdown",
   "id": "bd9ed986",
   "metadata": {},
   "source": [
    "[3] 표제어 방식 <hr>"
   ]
  },
  {
   "cell_type": "code",
   "execution_count": 19,
   "id": "35cdcc6d",
   "metadata": {},
   "outputs": [
    {
     "name": "stdout",
     "output_type": "stream",
     "text": [
      "[working, worked, works] 어간추출 ==> work work work\n"
     ]
    }
   ],
   "source": [
    "## 인스턴스 생성\n",
    "wnLemma = WordNetLemmatizer()\n",
    "\n",
    "## 단어들의 어간 추출\n",
    "print('[working, worked, works]', end=' 어간추출 ==> ')\n",
    "print(wnLemma.lemmatize('working', 'v'), wnLemma.lemmatize('worked', 'v'), wnLemma.lemmatize('works', 'v'))"
   ]
  },
  {
   "cell_type": "code",
   "execution_count": 20,
   "id": "7771f432",
   "metadata": {},
   "outputs": [
    {
     "name": "stdout",
     "output_type": "stream",
     "text": [
      "[amusing, amuses, amused] 어간추출 ==> amuse amuse amuse\n"
     ]
    }
   ],
   "source": [
    "print('[amusing, amuses, amused]', end=' 어간추출 ==> ')\n",
    "print(wnLemma.lemmatize('amusing', 'v'), wnLemma.lemmatize('amuses', 'v'), wnLemma.lemmatize('amused', 'v'))"
   ]
  },
  {
   "cell_type": "code",
   "execution_count": 21,
   "id": "93457ac5",
   "metadata": {},
   "outputs": [
    {
     "name": "stdout",
     "output_type": "stream",
     "text": [
      "[happier, happiest] 어간추출 ==> happy happy\n",
      "[fancier, fanciest] 어간추출 ==> fancy fancy\n"
     ]
    }
   ],
   "source": [
    "print('[happier, happiest]', end=' 어간추출 ==> ')\n",
    "print(wnLemma.lemmatize('happier', 'a'), wnLemma.lemmatize('happiest', 'a'))\n",
    "\n",
    "print('[fancier, fanciest]', end=' 어간추출 ==> ')\n",
    "print(wnLemma.lemmatize('fancier', 'a'), wnLemma.lemmatize('fanciest', 'a'))"
   ]
  },
  {
   "cell_type": "markdown",
   "id": "4c01b74f",
   "metadata": {},
   "source": [
    "[4] 문장 기반 원형 복원 <hr>"
   ]
  },
  {
   "cell_type": "code",
   "execution_count": 33,
   "id": "9026f22b",
   "metadata": {},
   "outputs": [],
   "source": [
    "# 텍스트 데이터\n",
    "text = \"What a Merry-Go-Round is the eighteenth collection by British fashion designer Alexander McQueen, made for the Autumn/Winter 2001 season of his fashion house Alexander McQueen. The collection drew on imagery of clowns and carnivals, inspired by McQueen's feelings about childhood and his experiences in the fashion industry. The designs were influenced by military chic, cinema such as Nosferatu (1922) and Cabaret (1972), 1920s flapper fashion, and the French Revolution. The palette comprised dark colours complemented with neutrals and muted greens. The show marked the first appearance of the skull motif that became a signature of the brand.\""
   ]
  },
  {
   "cell_type": "code",
   "execution_count": null,
   "id": "0692f5f7",
   "metadata": {},
   "outputs": [
    {
     "name": "stdout",
     "output_type": "stream",
     "text": [
      "['be', 'eighteenth', 'British', 'make']\n",
      "['draw', 'inspire']\n",
      "['be', 'influence', 'military', 'such', 'flapper', 'French']\n",
      "['comprise', 'dark', 'complement', 'mute']\n",
      "['mark', 'first', 'become']\n"
     ]
    }
   ],
   "source": [
    "from nltk.tokenize import sent_tokenize, word_tokenize\n",
    "from nltk.tag import pos_tag\n",
    "\n",
    "for sent in sent_tokenize(text):\n",
    "\tpos_tokens = pos_tag(word_tokenize(sent))\n",
    "\t# print(pos_tokens)\n",
    "\t## 형용사 'JJ' => 'a', 동사 'VB' => 'v'\n",
    "\ta = [wnLemma.lemmatize(word, 'a' if pos=='JJ' else 'v') for word, pos in pos_tokens if pos[:2] in ['JJ', 'VB']]\n",
    "\tprint(a)\n",
    "\t"
   ]
  },
  {
   "cell_type": "code",
   "execution_count": null,
   "id": "b8222366",
   "metadata": {},
   "outputs": [],
   "source": []
  }
 ],
 "metadata": {
  "kernelspec": {
   "display_name": "NLP",
   "language": "python",
   "name": "python3"
  },
  "language_info": {
   "codemirror_mode": {
    "name": "ipython",
    "version": 3
   },
   "file_extension": ".py",
   "mimetype": "text/x-python",
   "name": "python",
   "nbconvert_exporter": "python",
   "pygments_lexer": "ipython3",
   "version": "3.8.20"
  }
 },
 "nbformat": 4,
 "nbformat_minor": 5
}
